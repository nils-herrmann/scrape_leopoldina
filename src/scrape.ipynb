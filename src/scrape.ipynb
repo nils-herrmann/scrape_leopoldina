{
 "cells": [
  {
   "cell_type": "code",
   "execution_count": null,
   "id": "ce9b6ee3",
   "metadata": {},
   "outputs": [],
   "source": [
    "from io import StringIO\n",
    "import json\n",
    "import logging\n",
    "from time import sleep\n",
    "\n",
    "from bs4 import BeautifulSoup\n",
    "import pandas as pd\n",
    "import requests\n",
    "from tqdm.notebook import tqdm\n",
    "from urllib.parse import urljoin, unquote\n",
    "\n",
    "from constants import ALL_COLUMNS, IRRELEVANT_COLUMNS, RENAME_COLUMNS, SHOULD_BE_NOTEMPTY_COLS"
   ]
  },
  {
   "cell_type": "code",
   "execution_count": null,
   "id": "fa862b81",
   "metadata": {},
   "outputs": [],
   "source": [
    "logging.basicConfig(\n",
    "    level=logging.INFO,\n",
    "    format=\"%(asctime)s [%(levelname)s] %(message)s\",\n",
    "    handlers=[logging.FileHandler(\"leopoldina_scraper.log\", encoding='utf-8')]\n",
    ")"
   ]
  },
  {
   "cell_type": "code",
   "execution_count": null,
   "id": "75005393",
   "metadata": {},
   "outputs": [],
   "source": [
    "BASE_URL = \"https://de.wikipedia.org\"\n",
    "BASE_TITLE = \"Liste_der_Mitglieder_der_Deutschen_Akademie_der_Naturforscher_Leopoldina\"\n",
    "API_URL = \"https://de.wikipedia.org/w/api.php\"\n",
    "YEARS = range(1885, 1951)\n",
    "\n",
    "all_tables = {}"
   ]
  },
  {
   "cell_type": "code",
   "execution_count": null,
   "id": "93d54dbc",
   "metadata": {},
   "outputs": [],
   "source": [
    "logging.info(\"Verifying all years...\")\n",
    "# Check if all tables are present\n",
    "if len(all_tables) != len(YEARS):\n",
    "    missing_years = set(YEARS) - set(all_tables.keys())\n",
    "    logging.warning(f\"Missing years: {missing_years}\")\n",
    "\n",
    "logging.info(\"Comparing columns of all tables...\")\n",
    "first_table_columns = list(next(iter(all_tables.values())).columns)\n",
    "\n",
    "# Check for column differences\n",
    "for year, table in all_tables.items():\n",
    "    current_columns = list(table.columns)\n",
    "    if current_columns != first_table_columns:\n",
    "        missing_cols = set(first_table_columns) - set(current_columns)\n",
    "        exceeding_cols = set(current_columns) - set(first_table_columns)\n",
    "        if missing_cols:\n",
    "            logging.warning(f\"\\t{year}: Missing columns {missing_cols}\")\n",
    "        if exceeding_cols:\n",
    "            logging.warning(f\"\\t{year}: Exceeding columns {exceeding_cols}\")\n",
    "\n",
    "logging.info(\"Comparing columns of all renamed tables...\")\n",
    "# Rename and verify columns\n",
    "all_tables_renamed = {}\n",
    "for year, table in all_tables.items():\n",
    "    # Rename columns\n",
    "    all_tables_renamed[year] = table.rename(columns=RENAME_COLUMNS)\n",
    "    # Verify renaming\n",
    "    current_columns = list(all_tables_renamed[year].columns)\n",
    "\n",
    "    missing_cols =  set(ALL_COLUMNS) - set(current_columns)\n",
    "    exceeding_cols = set(current_columns) - set(ALL_COLUMNS)\n",
    "\n",
    "    if missing_cols:\n",
    "        logging.warning(f\"\\t{year}: Missing columns: {missing_cols}\")\n",
    "    if exceeding_cols:\n",
    "        logging.warning(f\"\\t{year}: Exceeding columns: {exceeding_cols}\")"
   ]
  },
  {
   "cell_type": "code",
   "execution_count": null,
   "id": "7296df21",
   "metadata": {},
   "outputs": [],
   "source": [
    "# Concatenate all tables into a single DataFrame\n",
    "combined_df = pd.concat(all_tables_renamed.values(), keys=all_tables_renamed.keys(), names=[\"Year\", \"Row\"])\n",
    "\n",
    "# Drop irrelevant columns\n",
    "logging.info(f\"Dropping irrelevant columns: {IRRELEVANT_COLUMNS}\")\n",
    "combined_df.drop(columns=IRRELEVANT_COLUMNS, inplace=True)\n",
    "\n",
    "# Log the length of the DataFrame\n",
    "logging.info(f\"Combined dataset length: {len(combined_df)} rows\")\n",
    "\n",
    "# Log the number of empty values per column\n",
    "logging.info(\"Logging the number of empty values per column:\")\n",
    "for column in combined_df.columns:\n",
    "    empty_count = combined_df[column].isna().sum()\n",
    "    logging.info(f\"\\tColumn '{column}': {empty_count} empty values\")\n",
    "\n",
    "# Save the combined dataset to a CSV file\n",
    "logging.info(\"Saving combined dataset to CSV...\")\n",
    "combined_df.to_csv(\"../data/leopoldina_dataset_1885_1950.csv\", index=True, encoding=\"utf-8\")"
   ]
  },
  {
   "cell_type": "markdown",
   "id": "16d16298",
   "metadata": {},
   "source": [
    "# Missing Data"
   ]
  },
  {
   "cell_type": "code",
   "execution_count": null,
   "id": "df36ea63",
   "metadata": {},
   "outputs": [],
   "source": [
    "# Inpute missing values\n",
    "df = pd.read_csv(\"../data/leopoldina_dataset_1885_1950.csv\", encoding=\"utf-8\")"
   ]
  },
  {
   "cell_type": "code",
   "execution_count": null,
   "id": "8b37659b",
   "metadata": {},
   "outputs": [],
   "source": [
    "# Create json for missing data\n",
    "missing_data = {}\n",
    "for column in SHOULD_BE_NOTEMPTY_COLS:\n",
    "    for name in list(df[df[column].isna()][\"Name\"]):\n",
    "        if name not in missing_data:\n",
    "            missing_data[name] = {}\n",
    "        missing_data[name].update({column: \"\"})"
   ]
  },
  {
   "cell_type": "code",
   "execution_count": null,
   "id": "50af7471",
   "metadata": {},
   "outputs": [],
   "source": [
    "# Save the missing_data dictionary to a JSON file\n",
    "with open(\"../data/missing_data.json\", \"w\", encoding=\"utf-8\") as json_file:\n",
    "    json.dump(missing_data, json_file, ensure_ascii=False, indent=4)"
   ]
  }
 ],
 "metadata": {
  "kernelspec": {
   "display_name": "scrape_leopoldina",
   "language": "python",
   "name": "python3"
  },
  "language_info": {
   "codemirror_mode": {
    "name": "ipython",
    "version": 3
   },
   "file_extension": ".py",
   "mimetype": "text/x-python",
   "name": "python",
   "nbconvert_exporter": "python",
   "pygments_lexer": "ipython3",
   "version": "3.12.5"
  }
 },
 "nbformat": 4,
 "nbformat_minor": 5
}
